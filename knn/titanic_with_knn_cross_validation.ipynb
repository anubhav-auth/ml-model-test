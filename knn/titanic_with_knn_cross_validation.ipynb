{
 "cells": [
  {
   "cell_type": "code",
   "id": "initial_id",
   "metadata": {
    "collapsed": true,
    "ExecuteTime": {
     "end_time": "2025-04-20T14:57:07.678374Z",
     "start_time": "2025-04-20T14:57:07.184732Z"
    }
   },
   "source": [
    "from sklearn.neighbors import KNeighborsClassifier\n",
    "from sklearn.preprocessing import StandardScaler\n",
    "from sklearn.model_selection import cross_val_score, train_test_split\n",
    "from sklearn.metrics import accuracy_score\n",
    "from sklearn.model_selection import GridSearchCV\n",
    "import pandas as pd\n",
    "import numpy as np\n",
    "\n",
    "# Load and preprocess Titanic (simplified)\n",
    "data = pd.read_csv('../datasets/titanic.csv')\n",
    "data = data[['Survived', 'Pclass', 'Age', 'SibSp', 'Parch', 'Fare']].dropna()\n",
    "X = data.drop('Survived', axis=1)\n",
    "y = data['Survived']\n",
    "\n",
    "# Split data\n",
    "X_train, X_test, y_train, y_test = train_test_split(X, y, test_size=0.2, random_state=42)\n",
    "\n",
    "# Scale features\n",
    "scaler = StandardScaler()\n",
    "X_train = scaler.fit_transform(X_train)\n",
    "X_test = scaler.transform(X_test)\n",
    "\n",
    "# Define k values to test\n",
    "k_values = [1, 3, 5, 7, 10, 15, 20]\n",
    "\n",
    "# Perform cross-validation (5-fold)\n",
    "cv_scores = []\n",
    "for k in k_values:\n",
    "    knn = KNeighborsClassifier(n_neighbors=k)\n",
    "    scores = cross_val_score(knn, X_train, y_train, cv=5, scoring='accuracy')\n",
    "    cv_scores.append(scores.mean())\n",
    "    print(f\"k={k}, Mean Accuracy: {scores.mean():.4f} (+/- {scores.std():.4f})\")\n",
    "\n",
    "# Find optimal k\n",
    "optimal_k = k_values[np.argmax(cv_scores)]\n",
    "print(f\"Optimal k: {optimal_k}, Best Accuracy: {max(cv_scores):.4f}\")\n",
    "\n",
    "# Train final model with optimal k\n",
    "final_knn = KNeighborsClassifier(n_neighbors=optimal_k)\n",
    "final_knn.fit(X_train, y_train)\n",
    "\n",
    "# or use grid search to automate finding k\n",
    "param_grid = {'n_neighbors': [1, 3, 5, 7, 10, 15, 20]}\n",
    "knn = KNeighborsClassifier()\n",
    "grid = GridSearchCV(knn, param_grid, cv=5, scoring='accuracy')\n",
    "grid.fit(X_train, y_train)\n",
    "print(f\"Optimal k: {grid.best_params_['n_neighbors']}, Best Accuracy: {grid.best_score_:.4f}\")\n",
    "\n",
    "\n",
    "# Evaluate on test set\n",
    "y_pred = final_knn.predict(X_test)\n",
    "print(f\"Test Accuracy: {accuracy_score(y_test, y_pred):.4f}\")"
   ],
   "outputs": [
    {
     "name": "stdout",
     "output_type": "stream",
     "text": [
      "k=1, Mean Accuracy: 0.6480 (+/- 0.0308)\n",
      "k=3, Mean Accuracy: 0.7128 (+/- 0.0246)\n",
      "k=5, Mean Accuracy: 0.7076 (+/- 0.0158)\n",
      "k=7, Mean Accuracy: 0.7355 (+/- 0.0320)\n",
      "k=10, Mean Accuracy: 0.7495 (+/- 0.0208)\n",
      "k=15, Mean Accuracy: 0.7460 (+/- 0.0262)\n",
      "k=20, Mean Accuracy: 0.7565 (+/- 0.0176)\n",
      "Optimal k: 20, Best Accuracy: 0.7565\n",
      "Optimal k: 20, Best Accuracy: 0.7565\n",
      "Test Accuracy: 0.6853\n"
     ]
    }
   ],
   "execution_count": 5
  },
  {
   "metadata": {
    "ExecuteTime": {
     "end_time": "2025-04-20T14:57:07.690033Z",
     "start_time": "2025-04-20T14:57:07.687843Z"
    }
   },
   "cell_type": "code",
   "source": "",
   "id": "ea5188dffe797d6d",
   "outputs": [],
   "execution_count": null
  }
 ],
 "metadata": {
  "kernelspec": {
   "display_name": "Python 3",
   "language": "python",
   "name": "python3"
  },
  "language_info": {
   "codemirror_mode": {
    "name": "ipython",
    "version": 2
   },
   "file_extension": ".py",
   "mimetype": "text/x-python",
   "name": "python",
   "nbconvert_exporter": "python",
   "pygments_lexer": "ipython2",
   "version": "2.7.6"
  }
 },
 "nbformat": 4,
 "nbformat_minor": 5
}
