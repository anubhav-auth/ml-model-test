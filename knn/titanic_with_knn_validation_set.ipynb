{
 "cells": [
  {
   "cell_type": "code",
   "id": "initial_id",
   "metadata": {
    "collapsed": true,
    "ExecuteTime": {
     "end_time": "2025-04-20T14:58:54.720829Z",
     "start_time": "2025-04-20T14:58:53.173380Z"
    }
   },
   "source": [
    "from sklearn.neighbors import KNeighborsClassifier\n",
    "from sklearn.preprocessing import StandardScaler\n",
    "from sklearn.model_selection import train_test_split\n",
    "from sklearn.metrics import accuracy_score\n",
    "import pandas as pd\n",
    "import numpy as np\n",
    "\n",
    "# Load and preprocess Titanic (simplified)\n",
    "data = pd.read_csv('../datasets/titanic.csv')\n",
    "data = data[['Survived', 'Pclass', 'Age', 'SibSp', 'Parch', 'Fare']].dropna()\n",
    "X = data.drop('Survived', axis=1)\n",
    "y = data['Survived']\n",
    "\n",
    "# Split data: 60% train, 20% validation, 20% test\n",
    "X_temp, X_test, y_temp, y_test = train_test_split(X, y, test_size=0.2, random_state=42)\n",
    "X_train, X_val, y_train, y_val = train_test_split(X_temp, y_temp, test_size=0.25, random_state=42)  # 0.25 * 0.8 = 0.2\n",
    "\n",
    "# Scale features\n",
    "scaler = StandardScaler()\n",
    "X_train = scaler.fit_transform(X_train)\n",
    "X_val = scaler.transform(X_val)\n",
    "X_test = scaler.transform(X_test)\n",
    "\n",
    "# Define k values to test\n",
    "k_values = [1, 3, 5, 7, 10, 15, 20]\n",
    "\n",
    "# Evaluate on validation set\n",
    "val_scores = []\n",
    "for k in k_values:\n",
    "    knn = KNeighborsClassifier(n_neighbors=k)\n",
    "    knn.fit(X_train, y_train)\n",
    "    y_val_pred = knn.predict(X_val)\n",
    "    score = accuracy_score(y_val, y_val_pred)\n",
    "    val_scores.append(score)\n",
    "    print(f\"k={k}, Validation Accuracy: {score:.4f}\")\n",
    "\n",
    "# Find optimal k\n",
    "optimal_k = k_values[np.argmax(val_scores)]\n",
    "print(f\"Optimal k: {optimal_k}, Best Validation Accuracy: {max(val_scores):.4f}\")\n",
    "\n",
    "# Train final model with optimal k on train + validation\n",
    "X_train_val = np.vstack((X_train, X_val))\n",
    "y_train_val = np.hstack((y_train, y_val))\n",
    "final_knn = KNeighborsClassifier(n_neighbors=optimal_k)\n",
    "final_knn.fit(X_train_val, y_train_val)\n",
    "\n",
    "# Evaluate on test set\n",
    "y_pred = final_knn.predict(X_test)\n",
    "print(f\"Test Accuracy: {accuracy_score(y_test, y_pred):.4f}\")"
   ],
   "outputs": [
    {
     "name": "stdout",
     "output_type": "stream",
     "text": [
      "k=1, Validation Accuracy: 0.6853\n",
      "k=3, Validation Accuracy: 0.7063\n",
      "k=5, Validation Accuracy: 0.7343\n",
      "k=7, Validation Accuracy: 0.7552\n",
      "k=10, Validation Accuracy: 0.7413\n",
      "k=15, Validation Accuracy: 0.7413\n",
      "k=20, Validation Accuracy: 0.7483\n",
      "Optimal k: 7, Best Validation Accuracy: 0.7552\n",
      "Test Accuracy: 0.6573\n"
     ]
    }
   ],
   "execution_count": 1
  },
  {
   "metadata": {},
   "cell_type": "code",
   "outputs": [],
   "execution_count": null,
   "source": "",
   "id": "50eca6282bd32fb"
  }
 ],
 "metadata": {
  "kernelspec": {
   "display_name": "Python 3",
   "language": "python",
   "name": "python3"
  },
  "language_info": {
   "codemirror_mode": {
    "name": "ipython",
    "version": 2
   },
   "file_extension": ".py",
   "mimetype": "text/x-python",
   "name": "python",
   "nbconvert_exporter": "python",
   "pygments_lexer": "ipython2",
   "version": "2.7.6"
  }
 },
 "nbformat": 4,
 "nbformat_minor": 5
}
