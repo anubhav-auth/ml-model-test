{
 "cells": [
  {
   "cell_type": "code",
   "execution_count": null,
   "id": "initial_id",
   "metadata": {
    "ExecuteTime": {
     "end_time": "2025-04-19T17:50:12.291959Z",
     "start_time": "2025-04-19T17:50:10.574069Z"
    }
   },
   "outputs": [],
   "source": [
    "import pandas as pd\n",
    "from numba.cuda import device_array"
   ]
  },
  {
   "cell_type": "code",
   "execution_count": null,
   "id": "97c308ca716f0cf7",
   "metadata": {
    "ExecuteTime": {
     "end_time": "2025-04-19T17:50:12.322616Z",
     "start_time": "2025-04-19T17:50:12.298521Z"
    }
   },
   "outputs": [],
   "source": [
    "diabetes = pd.read_csv('../datasets/diabetes.csv')\n",
    "X = diabetes.drop(columns=['Outcome'])\n",
    "Y = diabetes['Outcome']\n",
    "diabetes.sample(10)"
   ]
  },
  {
   "cell_type": "code",
   "execution_count": null,
   "id": "3341b226d239c640",
   "metadata": {
    "ExecuteTime": {
     "end_time": "2025-04-19T17:50:13.984367Z",
     "start_time": "2025-04-19T17:50:12.854829Z"
    }
   },
   "outputs": [],
   "source": [
    "from sklearn.model_selection import train_test_split\n",
    "\n",
    "X_train, X_test, y_train, y_test = train_test_split(X, Y, test_size=0.3, random_state=42)"
   ]
  },
  {
   "cell_type": "code",
   "execution_count": null,
   "id": "2cb2b8792049629c",
   "metadata": {
    "ExecuteTime": {
     "end_time": "2025-04-19T17:50:14.121236Z",
     "start_time": "2025-04-19T17:50:14.018650Z"
    }
   },
   "outputs": [],
   "source": [
    "from sklearn.linear_model import LogisticRegression\n",
    "\n",
    "regressor = LogisticRegression(max_iter = 1000)\n",
    "regressor.fit(X_train, y_train)"
   ]
  },
  {
   "cell_type": "code",
   "execution_count": null,
   "id": "b97ee2602c8b8c61",
   "metadata": {
    "ExecuteTime": {
     "end_time": "2025-04-19T17:50:14.222025Z",
     "start_time": "2025-04-19T17:50:14.216513Z"
    }
   },
   "outputs": [],
   "source": [
    "Y_pred = regressor.predict(X_test)"
   ]
  },
  {
   "cell_type": "code",
   "execution_count": null,
   "id": "4f9a82f29be4d542",
   "metadata": {
    "ExecuteTime": {
     "end_time": "2025-04-19T17:50:14.244742Z",
     "start_time": "2025-04-19T17:50:14.235817Z"
    }
   },
   "outputs": [],
   "source": [
    "from sklearn.metrics import accuracy_score\n",
    "correct = accuracy_score(y_test, Y_pred) * 100\n",
    "correct"
   ]
  },
  {
   "cell_type": "code",
   "execution_count": null,
   "id": "76e6878101b39054",
   "metadata": {
    "ExecuteTime": {
     "end_time": "2025-04-19T17:50:14.292719Z",
     "start_time": "2025-04-19T17:50:14.287624Z"
    }
   },
   "outputs": [],
   "source": []
  }
 ],
 "metadata": {
  "kernelspec": {
   "display_name": "Python 3",
   "language": "python",
   "name": "python3"
  },
  "language_info": {
   "codemirror_mode": {
    "name": "ipython",
    "version": 2
   },
   "file_extension": ".py",
   "mimetype": "text/x-python",
   "name": "python",
   "nbconvert_exporter": "python",
   "pygments_lexer": "ipython2",
   "version": "2.7.6"
  }
 },
 "nbformat": 4,
 "nbformat_minor": 5
}
