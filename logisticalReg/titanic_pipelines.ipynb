{
 "cells": [
  {
   "cell_type": "code",
   "execution_count": null,
   "id": "initial_id",
   "metadata": {
    "ExecuteTime": {
     "end_time": "2025-04-19T17:43:02.453727Z",
     "start_time": "2025-04-19T17:43:02.448847Z"
    }
   },
   "outputs": [],
   "source": [
    "import numpy as np\n",
    "import pandas as pd\n",
    "from sklearn.compose import ColumnTransformer\n",
    "from sklearn.linear_model import LogisticRegression\n",
    "from sklearn.metrics import accuracy_score\n",
    "\n",
    "from sklearn.model_selection import train_test_split\n",
    "from sklearn.impute import SimpleImputer\n",
    "from sklearn.preprocessing import OneHotEncoder\n",
    "from sklearn.preprocessing import MinMaxScaler"
   ]
  },
  {
   "cell_type": "code",
   "execution_count": null,
   "id": "2752c77a31259c87",
   "metadata": {
    "ExecuteTime": {
     "end_time": "2025-04-19T17:43:02.557286Z",
     "start_time": "2025-04-19T17:43:02.549735Z"
    }
   },
   "outputs": [],
   "source": [
    "df = pd.read_csv(\"../datasets/titanic.csv\")"
   ]
  },
  {
   "cell_type": "code",
   "execution_count": null,
   "id": "5041f5e9e3a8d794",
   "metadata": {
    "ExecuteTime": {
     "end_time": "2025-04-19T17:43:02.578341Z",
     "start_time": "2025-04-19T17:43:02.565836Z"
    }
   },
   "outputs": [],
   "source": [
    "df.drop(columns=[\"PassengerId\", \"Name\", \"Ticket\", \"Cabin\"], inplace=True)\n",
    "df.sample(10)"
   ]
  },
  {
   "cell_type": "code",
   "execution_count": null,
   "id": "9688d895c555f8cd",
   "metadata": {
    "ExecuteTime": {
     "end_time": "2025-04-19T17:43:02.658864Z",
     "start_time": "2025-04-19T17:43:02.650829Z"
    }
   },
   "outputs": [],
   "source": [
    "X_train, X_test, Y_train, Y_test = train_test_split(df.drop(columns=[\"Survived\"]), df[\"Survived\"], test_size=0.2, random_state=42)"
   ]
  },
  {
   "cell_type": "code",
   "execution_count": null,
   "id": "f36b5df6b7fcf66d",
   "metadata": {
    "ExecuteTime": {
     "end_time": "2025-04-19T17:43:02.717109Z",
     "start_time": "2025-04-19T17:43:02.710079Z"
    }
   },
   "outputs": [],
   "source": [
    "#check missing values\n",
    "df.isnull().sum()"
   ]
  },
  {
   "cell_type": "code",
   "execution_count": null,
   "id": "387a22885d5dca63",
   "metadata": {
    "ExecuteTime": {
     "end_time": "2025-04-19T17:43:02.850830Z",
     "start_time": "2025-04-19T17:43:02.844713Z"
    }
   },
   "outputs": [],
   "source": [
    "from sklearn.pipeline import Pipeline\n",
    "from sklearn.compose import ColumnTransformer\n",
    "#using pipelines\n",
    "\n",
    "num_columns = [\"Pclass\", \"Age\", \"SibSp\", \"Parch\", \"Fare\"]\n",
    "class_columns = [\"Sex\", \"Embarked\"]\n",
    "\n",
    "num_pipeline = Pipeline([\n",
    "    (\"impute_num\", SimpleImputer(strategy=\"mean\")),\n",
    "    (\"Scaler\", MinMaxScaler())\n",
    "])\n",
    "\n",
    "class_pipeline = Pipeline([\n",
    "    (\"impute_class\", SimpleImputer(strategy=\"most_frequent\")),\n",
    "    (\"encoder\", OneHotEncoder(sparse_output=False, handle_unknown=\"ignore\"))\n",
    "])\n",
    "\n",
    "preprocessor = ColumnTransformer([\n",
    "    (\"nums\", num_pipeline, num_columns),\n",
    "    (\"classes\", class_pipeline, class_columns)\n",
    "])\n",
    "\n",
    "pipeline = Pipeline([\n",
    "    (\"preprocessor\", preprocessor),\n",
    "    (\"classifier\", LogisticRegression())\n",
    "])\n"
   ]
  },
  {
   "cell_type": "code",
   "execution_count": null,
   "id": "9ec8c941c88bde6",
   "metadata": {
    "ExecuteTime": {
     "end_time": "2025-04-19T17:43:03.128714Z",
     "start_time": "2025-04-19T17:43:03.063511Z"
    }
   },
   "outputs": [],
   "source": [
    "pipeline.fit(X_train, Y_train)\n",
    "Y_pred = pipeline.predict(X_test)"
   ]
  },
  {
   "cell_type": "code",
   "execution_count": null,
   "id": "4901d1c8b22bc65b",
   "metadata": {
    "ExecuteTime": {
     "end_time": "2025-04-19T17:44:18.237665Z",
     "start_time": "2025-04-19T17:44:18.229554Z"
    }
   },
   "outputs": [],
   "source": [
    "from sklearn.metrics import accuracy_score\n",
    "accuracy = accuracy_score(Y_test, Y_pred)\n",
    "accuracy"
   ]
  },
  {
   "cell_type": "code",
   "execution_count": null,
   "id": "7964d393a7d2835b",
   "metadata": {},
   "outputs": [],
   "source": []
  }
 ],
 "metadata": {
  "kernelspec": {
   "display_name": "Python 3",
   "language": "python",
   "name": "python3"
  },
  "language_info": {
   "codemirror_mode": {
    "name": "ipython",
    "version": 2
   },
   "file_extension": ".py",
   "mimetype": "text/x-python",
   "name": "python",
   "nbconvert_exporter": "python",
   "pygments_lexer": "ipython2",
   "version": "2.7.6"
  }
 },
 "nbformat": 4,
 "nbformat_minor": 5
}
