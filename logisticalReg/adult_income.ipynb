{
 "cells": [
  {
   "cell_type": "code",
   "execution_count": null,
   "id": "initial_id",
   "metadata": {
    "ExecuteTime": {
     "end_time": "2025-04-20T13:59:28.082658Z",
     "start_time": "2025-04-20T13:59:28.077235Z"
    }
   },
   "outputs": [],
   "source": [
    "import pandas as pd\n",
    "import numpy as np\n",
    "from sklearn.impute import SimpleImputer\n",
    "from sklearn.metrics import accuracy_score, classification_report, roc_auc_score\n",
    "from sklearn.model_selection import train_test_split\n",
    "from sklearn.pipeline import Pipeline\n",
    "from sklearn.compose import ColumnTransformer\n",
    "from sklearn.linear_model import LogisticRegression\n",
    "from sklearn.preprocessing import StandardScaler, OneHotEncoder"
   ]
  },
  {
   "cell_type": "code",
   "execution_count": null,
   "id": "fd0ecab12cf9d919",
   "metadata": {
    "ExecuteTime": {
     "end_time": "2025-04-20T13:59:28.259661Z",
     "start_time": "2025-04-20T13:59:28.159169Z"
    }
   },
   "outputs": [],
   "source": [
    "df = pd.read_csv(\"../datasets/adult_income.csv\")\n",
    "# df.shape # (48842, 15) gave me this\n",
    "# df.info() # shows no null columns but can be filled with non-null values\n",
    "# df.isin(['?', 'NA', '']).sum() # found null values replaced with characters so hidden values\n",
    "df.replace(\"?\", np.nan, inplace=True)\n",
    "# df.isin(['?', 'NA', '']).sum() # no we can see the data has no values that are hidden\n",
    "# df.info() #info now shows the missing values"
   ]
  },
  {
   "cell_type": "markdown",
   "id": "942d662ee4298031",
   "metadata": {},
   "source": [
    "feature engineering"
   ]
  },
  {
   "cell_type": "code",
   "execution_count": null,
   "id": "c3a17c300fd22c55",
   "metadata": {
    "ExecuteTime": {
     "end_time": "2025-04-20T13:59:28.778892Z",
     "start_time": "2025-04-20T13:59:28.263679Z"
    }
   },
   "outputs": [],
   "source": [
    "df[\"capital_net\"] = df['capital-gain'] - df[\"capital-loss\"]\n",
    "df[\"hours_category\"] = pd.cut(\n",
    "    x=df[\"hours-per-week\"],\n",
    "    bins=(0, 20, 40, 60, 100),\n",
    "    labels=([\"part-time\", \"full-time\", \"over-time\", \"extreme\"]),\n",
    "    include_lowest=True\n",
    ")\n",
    "\n",
    "df.drop(columns= [\"fnlwgt\", \"education\", \"capital-loss\", 'capital-gain', \"hours-per-week\"], inplace=True)"
   ]
  },
  {
   "cell_type": "code",
   "execution_count": null,
   "id": "62427e1cfd50cf4f",
   "metadata": {
    "ExecuteTime": {
     "end_time": "2025-04-20T13:59:29.278255Z",
     "start_time": "2025-04-20T13:59:28.809930Z"
    }
   },
   "outputs": [],
   "source": [
    "df.isna().sum() # now after feature engineering we have to fill up the empty spaces in work class, occupation, native-country"
   ]
  },
  {
   "cell_type": "code",
   "execution_count": null,
   "id": "20f42045895da349",
   "metadata": {
    "ExecuteTime": {
     "end_time": "2025-04-20T13:59:29.352212Z",
     "start_time": "2025-04-20T13:59:29.341158Z"
    }
   },
   "outputs": [],
   "source": [
    "df[\"native-country\"].describe()\n",
    "df[\"native-country\"].unique()  #this shows that max country is USA more than 97% so can apply imputer with most freq"
   ]
  },
  {
   "cell_type": "code",
   "execution_count": null,
   "id": "583e7d6edd2ebcb0",
   "metadata": {
    "ExecuteTime": {
     "end_time": "2025-04-20T13:59:30.047351Z",
     "start_time": "2025-04-20T13:59:29.867310Z"
    }
   },
   "outputs": [],
   "source": [
    "df[\"native-country\"] = (\n",
    "    df[\"native-country\"]\n",
    "      .fillna(df[\"native-country\"]\n",
    "                .mode()\n",
    "                .iloc[0])\n",
    ") # extraxts the mode(max freq) and replaces it where it was null"
   ]
  },
  {
   "cell_type": "code",
   "execution_count": null,
   "id": "50020402a306deab",
   "metadata": {
    "ExecuteTime": {
     "end_time": "2025-04-20T13:59:30.925343Z",
     "start_time": "2025-04-20T13:59:30.478311Z"
    }
   },
   "outputs": [],
   "source": [
    "df[\"educational-num\"].describe()\n",
    "df[\"occupation\"].unique()"
   ]
  },
  {
   "cell_type": "code",
   "execution_count": null,
   "id": "61ee0409b71c1017",
   "metadata": {
    "ExecuteTime": {
     "end_time": "2025-04-20T13:59:30.972897Z",
     "start_time": "2025-04-20T13:59:30.957988Z"
    }
   },
   "outputs": [],
   "source": [
    " ## using this to compare values of occupation according to educational-num to figure out the best possible i settled on binning using the values\n",
    "# 1–6, 7–8, 9, 10–12, 13–16; occupations: Other-service, Craft-repair, Craft-repair, Adm-clerical, Prof-specialty\n",
    "df.groupby(\"educational-num\")[\"occupation\"].value_counts()"
   ]
  },
  {
   "cell_type": "code",
   "execution_count": null,
   "id": "66a143d1e1941cea",
   "metadata": {
    "ExecuteTime": {
     "end_time": "2025-04-20T13:59:31.380867Z",
     "start_time": "2025-04-20T13:59:31.100819Z"
    }
   },
   "outputs": [],
   "source": [
    "# Custom imputation for occupation based on education-num bins\n",
    "def impute_occupation(row):\n",
    "    if pd.isna(row[\"occupation\"]):\n",
    "        edu = row[\"educational-num\"]\n",
    "        if 1 <= edu <= 6:\n",
    "            return \"Other-service\"  # Dominant for low education\n",
    "        elif 7 <= edu <= 8:\n",
    "            return \"Other-service\"  # Dominant for mid-low\n",
    "        elif edu == 9:\n",
    "            return \"Craft-repair\"  # Dominant for high school\n",
    "        elif 10 <= edu <= 12:\n",
    "            return \"Adm-clerical\"  # Strong for some college to associate’s\n",
    "        elif 13 <= edu <= 16:\n",
    "            return \"Prof-specialty\"  # Dominant for bachelor’s to doctorate\n",
    "    return row[\"occupation\"]\n",
    "\n",
    "# Apply imputation\n",
    "df[\"occupation\"] = df.apply(impute_occupation, axis=1)"
   ]
  },
  {
   "cell_type": "code",
   "execution_count": null,
   "id": "684e7afca5712307",
   "metadata": {
    "ExecuteTime": {
     "end_time": "2025-04-20T13:59:31.888512Z",
     "start_time": "2025-04-20T13:59:31.740128Z"
    }
   },
   "outputs": [],
   "source": [
    "df[\"occupation\"].describe()"
   ]
  },
  {
   "cell_type": "code",
   "execution_count": null,
   "id": "f8dad84c901053b4",
   "metadata": {
    "ExecuteTime": {
     "end_time": "2025-04-20T13:59:32.598141Z",
     "start_time": "2025-04-20T13:59:31.955784Z"
    }
   },
   "outputs": [],
   "source": [
    "df.isna().sum() #left to fill in workclass"
   ]
  },
  {
   "cell_type": "code",
   "execution_count": null,
   "id": "973560181ed19afb",
   "metadata": {
    "ExecuteTime": {
     "end_time": "2025-04-20T13:59:32.683504Z",
     "start_time": "2025-04-20T13:59:32.669552Z"
    }
   },
   "outputs": [],
   "source": [
    "df.groupby(\"occupation\")[\"workclass\"].value_counts()"
   ]
  },
  {
   "cell_type": "code",
   "execution_count": null,
   "id": "6f77a35d6c02fa06",
   "metadata": {
    "ExecuteTime": {
     "end_time": "2025-04-20T13:59:32.831996Z",
     "start_time": "2025-04-20T13:59:32.824498Z"
    }
   },
   "outputs": [],
   "source": [
    "# Apply imputation\n",
    "df[\"workclass\"] = df[\"workclass\"].fillna(\"Unknown\")"
   ]
  },
  {
   "cell_type": "code",
   "execution_count": null,
   "id": "33379af6bbd2be97",
   "metadata": {
    "ExecuteTime": {
     "end_time": "2025-04-20T13:59:32.995209Z",
     "start_time": "2025-04-20T13:59:32.978530Z"
    }
   },
   "outputs": [],
   "source": [
    "df.isna().sum() # no more null values"
   ]
  },
  {
   "cell_type": "code",
   "execution_count": null,
   "id": "25b780b3a656f1c5",
   "metadata": {
    "ExecuteTime": {
     "end_time": "2025-04-20T13:59:33.434852Z",
     "start_time": "2025-04-20T13:59:33.423484Z"
    }
   },
   "outputs": [],
   "source": [
    "df.sample(5)"
   ]
  },
  {
   "cell_type": "code",
   "execution_count": null,
   "id": "cd4a701988249bfe",
   "metadata": {
    "ExecuteTime": {
     "end_time": "2025-04-20T13:59:33.622491Z",
     "start_time": "2025-04-20T13:59:33.609230Z"
    }
   },
   "outputs": [],
   "source": [
    "num_columns = [0, 2, 9]  # age, educational-num, capital_net\n",
    "char_columns = [1, 3, 4, 5, 6, 7, 8, 10]  # workclass, marital-status, occupation, relationship, race, sex, native-country, hours_category\n",
    "X = df.drop(columns=[\"income\"])\n",
    "Y = (df[\"income\"] == \">50K\").astype(int)  # Binary: 0 for <=50K, 1 for >50K\n",
    "\n",
    "transform_x = ColumnTransformer([\n",
    "    (\"scaler\", StandardScaler(), num_columns),\n",
    "    (\"encoder\", OneHotEncoder(drop=\"first\", sparse_output=False), char_columns)\n",
    "], remainder=\"passthrough\")\n",
    "\n",
    "pipeline = Pipeline([\n",
    "    (\"preprocessor\", transform_x),\n",
    "    (\"classifier\", LogisticRegression())\n",
    "])"
   ]
  },
  {
   "cell_type": "code",
   "execution_count": null,
   "id": "ce19ad2c4981720a",
   "metadata": {
    "ExecuteTime": {
     "end_time": "2025-04-20T13:59:33.803957Z",
     "start_time": "2025-04-20T13:59:33.743926Z"
    }
   },
   "outputs": [],
   "source": [
    "X_train, X_test, Y_train, Y_test = train_test_split(X, Y, test_size=0.25)"
   ]
  },
  {
   "cell_type": "code",
   "execution_count": null,
   "id": "21c1c4cbb156d28e",
   "metadata": {
    "ExecuteTime": {
     "end_time": "2025-04-20T13:59:34.821172Z",
     "start_time": "2025-04-20T13:59:34.142531Z"
    }
   },
   "outputs": [],
   "source": [
    "pipeline.fit(X_train, Y_train)\n",
    "Y_pred = pipeline.predict(X_test)"
   ]
  },
  {
   "cell_type": "code",
   "execution_count": null,
   "id": "e86973cf49ade5d5",
   "metadata": {
    "ExecuteTime": {
     "end_time": "2025-04-20T13:59:34.909778Z",
     "start_time": "2025-04-20T13:59:34.828186Z"
    }
   },
   "outputs": [],
   "source": [
    "# Evaluation\n",
    "print(f\"\\nAccuracy: {accuracy_score(Y_test, Y_pred):.2f}\")\n",
    "print(\"Classification Report:\")\n",
    "print(classification_report(Y_test, Y_pred, target_names=[\"<=50K\", \">50K\"]))\n",
    "print(f\"ROC-AUC: {roc_auc_score(Y_test, pipeline.predict_proba(X_test)[:, 1]):.2f}\")\n",
    "\n",
    "# Feature importance\n",
    "coef = pipeline.named_steps[\"classifier\"].coef_[0]\n",
    "feature_names = pipeline.named_steps[\"preprocessor\"].get_feature_names_out()\n",
    "print(\"\\nFeature Importance:\")\n",
    "print(pd.DataFrame({\"Feature\": feature_names, \"Coefficient\": coef}).sort_values(by=\"Coefficient\", ascending=False))\n",
    "\n",
    "# Validate distributions\n",
    "print(\"\\nWorkclass distribution after imputation:\")\n",
    "print(df[\"workclass\"].value_counts())\n",
    "print(\"\\nOccupation distribution after imputation:\")\n",
    "print(df[\"occupation\"].value_counts())\n",
    "print(\"\\nNative-country distribution after imputation:\")\n",
    "print(df[\"native-country\"].value_counts().head())"
   ]
  },
  {
   "cell_type": "code",
   "execution_count": null,
   "id": "72003a1e0381d84d",
   "metadata": {
    "ExecuteTime": {
     "end_time": "2025-04-20T13:59:34.976377Z",
     "start_time": "2025-04-20T13:59:34.973858Z"
    }
   },
   "outputs": [],
   "source": []
  }
 ],
 "metadata": {
  "kernelspec": {
   "display_name": "Python 3",
   "language": "python",
   "name": "python3"
  },
  "language_info": {
   "codemirror_mode": {
    "name": "ipython",
    "version": 2
   },
   "file_extension": ".py",
   "mimetype": "text/x-python",
   "name": "python",
   "nbconvert_exporter": "python",
   "pygments_lexer": "ipython2",
   "version": "2.7.6"
  }
 },
 "nbformat": 4,
 "nbformat_minor": 5
}
