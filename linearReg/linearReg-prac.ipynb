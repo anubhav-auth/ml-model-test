{
 "cells": [
  {
   "cell_type": "markdown",
   "id": "8a77807f92f26ee",
   "metadata": {},
   "source": []
  },
  {
   "cell_type": "code",
   "execution_count": null,
   "id": "fbc121e30a2defb3",
   "metadata": {
    "ExecuteTime": {
     "end_time": "2025-04-07T05:52:17.910269Z",
     "start_time": "2025-04-07T05:52:17.878335Z"
    }
   },
   "outputs": [],
   "source": [
    "import numpy as np\n",
    "import matplotlib.pyplot as plt\n",
    "import pandas as pd\n",
    "import seaborn as sns\n",
    "%matplotlib inline"
   ]
  },
  {
   "cell_type": "code",
   "execution_count": null,
   "id": "3d0bebb54595cb25",
   "metadata": {
    "ExecuteTime": {
     "end_time": "2025-04-07T05:52:17.995621Z",
     "start_time": "2025-04-07T05:52:17.946285Z"
    }
   },
   "outputs": [],
   "source": [
    "companies = pd.read_csv('../datasets/1000_Companies.csv')\n",
    "X = companies.iloc[:, :-1].values\n",
    "Y = companies.iloc[:, 4].values\n",
    "companies.head()"
   ]
  },
  {
   "cell_type": "code",
   "execution_count": null,
   "id": "23d762d812ab010c",
   "metadata": {
    "ExecuteTime": {
     "end_time": "2025-04-07T05:52:19.110108Z",
     "start_time": "2025-04-07T05:52:18.752700Z"
    }
   },
   "outputs": [],
   "source": [
    "# data visualisation\n",
    "# Building the corealation matrix\n",
    "\n",
    "numeric_companies = companies.select_dtypes(include=[np.number])\n",
    "sns.heatmap(numeric_companies.corr())"
   ]
  },
  {
   "cell_type": "code",
   "execution_count": null,
   "id": "fca6f07e4668f64",
   "metadata": {
    "ExecuteTime": {
     "end_time": "2025-04-07T05:52:19.790665Z",
     "start_time": "2025-04-07T05:52:19.168099Z"
    }
   },
   "outputs": [],
   "source": [
    "from sklearn.compose import ColumnTransformer\n",
    "from sklearn.preprocessing import OneHotEncoder\n",
    "\n",
    "# Apply OneHotEncoding only to categorical column (State)\n",
    "column_transformer = ColumnTransformer(\n",
    "    transformers=[\n",
    "        ('encoder', OneHotEncoder(drop='first'), [3])\n",
    "    ],\n",
    "    remainder='passthrough')\n",
    "\n",
    "X = column_transformer.fit_transform(companies.iloc[:, :-1])"
   ]
  },
  {
   "cell_type": "code",
   "execution_count": null,
   "id": "5f291e1ad00089ea",
   "metadata": {
    "ExecuteTime": {
     "end_time": "2025-04-07T05:52:19.863919Z",
     "start_time": "2025-04-07T05:52:19.853924Z"
    }
   },
   "outputs": [],
   "source": [
    "from sklearn.model_selection import train_test_split\n",
    "\n",
    "X_train, X_test, Y_train, Y_test = train_test_split(X, Y, test_size=0.3, random_state=0)"
   ]
  },
  {
   "cell_type": "code",
   "execution_count": null,
   "id": "6e0837137691044d",
   "metadata": {
    "ExecuteTime": {
     "end_time": "2025-04-07T05:52:19.907046Z",
     "start_time": "2025-04-07T05:52:19.876457Z"
    }
   },
   "outputs": [],
   "source": [
    "from sklearn.linear_model import LinearRegression\n",
    "\n",
    "regressor = LinearRegression()\n",
    "regressor.fit(X_train, Y_train)"
   ]
  },
  {
   "cell_type": "code",
   "execution_count": null,
   "id": "6958de4ce7771032",
   "metadata": {
    "ExecuteTime": {
     "end_time": "2025-04-07T05:52:20.001545Z",
     "start_time": "2025-04-07T05:52:19.988761Z"
    }
   },
   "outputs": [],
   "source": [
    "Y_pred = regressor.predict(X_test)\n",
    "Y_pred"
   ]
  },
  {
   "cell_type": "code",
   "execution_count": null,
   "id": "3eb91e2f2c287f42",
   "metadata": {
    "ExecuteTime": {
     "end_time": "2025-04-07T05:52:20.202649Z",
     "start_time": "2025-04-07T05:52:20.192680Z"
    }
   },
   "outputs": [],
   "source": [
    "regressor.coef_"
   ]
  },
  {
   "cell_type": "code",
   "execution_count": null,
   "id": "4f65153ac118f558",
   "metadata": {
    "ExecuteTime": {
     "end_time": "2025-04-07T05:52:20.265167Z",
     "start_time": "2025-04-07T05:52:20.258217Z"
    }
   },
   "outputs": [],
   "source": [
    "regressor.intercept_"
   ]
  },
  {
   "cell_type": "code",
   "execution_count": null,
   "id": "28b27076c4b287b7",
   "metadata": {
    "ExecuteTime": {
     "end_time": "2025-04-07T05:52:20.311173Z",
     "start_time": "2025-04-07T05:52:20.300125Z"
    }
   },
   "outputs": [],
   "source": [
    "from sklearn.metrics import r2_score\n",
    "\n",
    "correct = r2_score(Y_test, Y_pred) * 100\n",
    "correct"
   ]
  },
  {
   "cell_type": "code",
   "execution_count": null,
   "id": "d6986a9512209b52",
   "metadata": {
    "ExecuteTime": {
     "end_time": "2025-04-07T05:52:20.346851Z",
     "start_time": "2025-04-07T05:52:20.341747Z"
    }
   },
   "outputs": [],
   "source": []
  }
 ],
 "metadata": {
  "kernelspec": {
   "display_name": "Python 3",
   "language": "python",
   "name": "python3"
  },
  "language_info": {
   "codemirror_mode": {
    "name": "ipython",
    "version": 2
   },
   "file_extension": ".py",
   "mimetype": "text/x-python",
   "name": "python",
   "nbconvert_exporter": "python",
   "pygments_lexer": "ipython2",
   "version": "2.7.6"
  }
 },
 "nbformat": 4,
 "nbformat_minor": 5
}
