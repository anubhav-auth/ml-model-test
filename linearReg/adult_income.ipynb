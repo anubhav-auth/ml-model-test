{
 "cells": [
  {
   "cell_type": "code",
   "id": "initial_id",
   "metadata": {
    "collapsed": true,
    "ExecuteTime": {
     "end_time": "2025-04-20T12:23:06.499972Z",
     "start_time": "2025-04-20T12:23:06.494808Z"
    }
   },
   "source": [
    "import pandas as pd\n",
    "import numpy as np\n",
    "from sklearn.impute import SimpleImputer\n",
    "from sklearn.metrics import accuracy_score, classification_report, roc_auc_score\n",
    "from sklearn.model_selection import train_test_split\n",
    "from sklearn.pipeline import Pipeline\n",
    "from sklearn.compose import ColumnTransformer\n",
    "from sklearn.linear_model import LogisticRegression\n",
    "from sklearn.preprocessing import StandardScaler, OneHotEncoder"
   ],
   "outputs": [],
   "execution_count": 221
  },
  {
   "metadata": {
    "ExecuteTime": {
     "end_time": "2025-04-20T12:23:06.657482Z",
     "start_time": "2025-04-20T12:23:06.563115Z"
    }
   },
   "cell_type": "code",
   "source": [
    "df = pd.read_csv(\"../datasets/adult_income.csv\")\n",
    "# df.shape # (48842, 15) gave me this\n",
    "# df.info() # shows no null columns but can be filled with non-null values\n",
    "# df.isin(['?', 'NA', '']).sum() # found null values replaced with characters so hidden values\n",
    "df.replace(\"?\", np.nan, inplace=True)\n",
    "# df.isin(['?', 'NA', '']).sum() # no we can see the data has no values that are hidden\n",
    "# df.info() #info now shows the missing values"
   ],
   "id": "fd0ecab12cf9d919",
   "outputs": [],
   "execution_count": 222
  },
  {
   "metadata": {},
   "cell_type": "markdown",
   "source": "feature engineering",
   "id": "942d662ee4298031"
  },
  {
   "metadata": {
    "ExecuteTime": {
     "end_time": "2025-04-20T12:23:06.673060Z",
     "start_time": "2025-04-20T12:23:06.661501Z"
    }
   },
   "cell_type": "code",
   "source": [
    "df[\"capital_net\"] = df['capital-gain'] - df[\"capital-loss\"]\n",
    "df[\"hours_category\"] = pd.cut(\n",
    "    x=df[\"hours-per-week\"],\n",
    "    bins=(0, 20, 40, 60, 100),\n",
    "    labels=([\"part-time\", \"full-time\", \"over-time\", \"extreme\"]),\n",
    "    include_lowest=True\n",
    ")\n",
    "\n",
    "df.drop(columns= [\"fnlwgt\", \"education\", \"capital-loss\", 'capital-gain', \"hours-per-week\"], inplace=True)"
   ],
   "id": "c3a17c300fd22c55",
   "outputs": [],
   "execution_count": 223
  },
  {
   "metadata": {
    "ExecuteTime": {
     "end_time": "2025-04-20T12:23:06.722175Z",
     "start_time": "2025-04-20T12:23:06.705972Z"
    }
   },
   "cell_type": "code",
   "source": "df.isna().sum() # now after feature engineering we have to fill up the empty spaces in work class, occupation, native-country",
   "id": "62427e1cfd50cf4f",
   "outputs": [
    {
     "data": {
      "text/plain": [
       "age                   0\n",
       "workclass          2799\n",
       "educational-num       0\n",
       "marital-status        0\n",
       "occupation         2809\n",
       "relationship          0\n",
       "race                  0\n",
       "gender                0\n",
       "native-country      857\n",
       "income                0\n",
       "capital_net           0\n",
       "hours_category        0\n",
       "dtype: int64"
      ]
     },
     "execution_count": 224,
     "metadata": {},
     "output_type": "execute_result"
    }
   ],
   "execution_count": 224
  },
  {
   "metadata": {
    "ExecuteTime": {
     "end_time": "2025-04-20T12:23:06.798837Z",
     "start_time": "2025-04-20T12:23:06.789271Z"
    }
   },
   "cell_type": "code",
   "source": [
    "df[\"native-country\"].describe()\n",
    "df[\"native-country\"].unique()  #this shows that max country is USA more than 97% so can apply imputer with most freq"
   ],
   "id": "20f42045895da349",
   "outputs": [
    {
     "data": {
      "text/plain": [
       "array(['United-States', nan, 'Peru', 'Guatemala', 'Mexico',\n",
       "       'Dominican-Republic', 'Ireland', 'Germany', 'Philippines',\n",
       "       'Thailand', 'Haiti', 'El-Salvador', 'Puerto-Rico', 'Vietnam',\n",
       "       'South', 'Columbia', 'Japan', 'India', 'Cambodia', 'Poland',\n",
       "       'Laos', 'England', 'Cuba', 'Taiwan', 'Italy', 'Canada', 'Portugal',\n",
       "       'China', 'Nicaragua', 'Honduras', 'Iran', 'Scotland', 'Jamaica',\n",
       "       'Ecuador', 'Yugoslavia', 'Hungary', 'Hong', 'Greece',\n",
       "       'Trinadad&Tobago', 'Outlying-US(Guam-USVI-etc)', 'France',\n",
       "       'Holand-Netherlands'], dtype=object)"
      ]
     },
     "execution_count": 225,
     "metadata": {},
     "output_type": "execute_result"
    }
   ],
   "execution_count": 225
  },
  {
   "metadata": {
    "ExecuteTime": {
     "end_time": "2025-04-20T12:23:06.975123Z",
     "start_time": "2025-04-20T12:23:06.963414Z"
    }
   },
   "cell_type": "code",
   "source": [
    "df[\"native-country\"] = (\n",
    "    df[\"native-country\"]\n",
    "      .fillna(df[\"native-country\"]\n",
    "                .mode()\n",
    "                .iloc[0])\n",
    ") # extraxts the mode(max freq) and replaces it where it was null"
   ],
   "id": "583e7d6edd2ebcb0",
   "outputs": [],
   "execution_count": 226
  },
  {
   "metadata": {
    "ExecuteTime": {
     "end_time": "2025-04-20T12:23:07.083842Z",
     "start_time": "2025-04-20T12:23:07.071154Z"
    }
   },
   "cell_type": "code",
   "source": [
    "df[\"educational-num\"].describe()\n",
    "df[\"occupation\"].unique()"
   ],
   "id": "50020402a306deab",
   "outputs": [
    {
     "data": {
      "text/plain": [
       "array(['Machine-op-inspct', 'Farming-fishing', 'Protective-serv', nan,\n",
       "       'Other-service', 'Prof-specialty', 'Craft-repair', 'Adm-clerical',\n",
       "       'Exec-managerial', 'Tech-support', 'Sales', 'Priv-house-serv',\n",
       "       'Transport-moving', 'Handlers-cleaners', 'Armed-Forces'],\n",
       "      dtype=object)"
      ]
     },
     "execution_count": 227,
     "metadata": {},
     "output_type": "execute_result"
    }
   ],
   "execution_count": 227
  },
  {
   "metadata": {
    "ExecuteTime": {
     "end_time": "2025-04-20T12:23:07.136331Z",
     "start_time": "2025-04-20T12:23:07.121698Z"
    }
   },
   "cell_type": "code",
   "source": [
    " ## using this to compare values of occupation according to educational-num to figure out the best possible i settled on binning using the values\n",
    "# 1–6, 7–8, 9, 10–12, 13–16; occupations: Other-service, Craft-repair, Craft-repair, Adm-clerical, Prof-specialty\n",
    "df.groupby(\"educational-num\")[\"occupation\"].value_counts()"
   ],
   "id": "61ee0409b71c1017",
   "outputs": [
    {
     "data": {
      "text/plain": [
       "educational-num  occupation       \n",
       "1                Other-service        22\n",
       "                 Farming-fishing      17\n",
       "                 Machine-op-inspct    12\n",
       "                 Craft-repair          6\n",
       "                 Handlers-cleaners     5\n",
       "                                      ..\n",
       "16               Transport-moving      2\n",
       "                 Farming-fishing       1\n",
       "                 Machine-op-inspct     1\n",
       "                 Priv-house-serv       1\n",
       "                 Protective-serv       1\n",
       "Name: count, Length: 209, dtype: int64"
      ]
     },
     "execution_count": 228,
     "metadata": {},
     "output_type": "execute_result"
    }
   ],
   "execution_count": 228
  },
  {
   "metadata": {
    "ExecuteTime": {
     "end_time": "2025-04-20T12:23:07.519125Z",
     "start_time": "2025-04-20T12:23:07.212330Z"
    }
   },
   "cell_type": "code",
   "source": [
    "# Custom imputation for occupation based on education-num bins\n",
    "def impute_occupation(row):\n",
    "    if pd.isna(row[\"occupation\"]):\n",
    "        edu = row[\"educational-num\"]\n",
    "        if 1 <= edu <= 6:\n",
    "            return \"Other-service\"  # Dominant for low education\n",
    "        elif 7 <= edu <= 8:\n",
    "            return \"Other-service\"  # Dominant for mid-low\n",
    "        elif edu == 9:\n",
    "            return \"Craft-repair\"  # Dominant for high school\n",
    "        elif 10 <= edu <= 12:\n",
    "            return \"Adm-clerical\"  # Strong for some college to associate’s\n",
    "        elif 13 <= edu <= 16:\n",
    "            return \"Prof-specialty\"  # Dominant for bachelor’s to doctorate\n",
    "    return row[\"occupation\"]\n",
    "\n",
    "# Apply imputation\n",
    "df[\"occupation\"] = df.apply(impute_occupation, axis=1)"
   ],
   "id": "66a143d1e1941cea",
   "outputs": [],
   "execution_count": 229
  },
  {
   "metadata": {
    "ExecuteTime": {
     "end_time": "2025-04-20T12:23:07.591576Z",
     "start_time": "2025-04-20T12:23:07.575504Z"
    }
   },
   "cell_type": "code",
   "source": "df[\"occupation\"].describe()",
   "id": "684e7afca5712307",
   "outputs": [
    {
     "data": {
      "text/plain": [
       "count            48842\n",
       "unique              14\n",
       "top       Craft-repair\n",
       "freq              6924\n",
       "Name: occupation, dtype: object"
      ]
     },
     "execution_count": 230,
     "metadata": {},
     "output_type": "execute_result"
    }
   ],
   "execution_count": 230
  },
  {
   "metadata": {
    "ExecuteTime": {
     "end_time": "2025-04-20T12:23:07.696780Z",
     "start_time": "2025-04-20T12:23:07.679226Z"
    }
   },
   "cell_type": "code",
   "source": "df.isna().sum() #left to fill in workclass",
   "id": "f8dad84c901053b4",
   "outputs": [
    {
     "data": {
      "text/plain": [
       "age                   0\n",
       "workclass          2799\n",
       "educational-num       0\n",
       "marital-status        0\n",
       "occupation            0\n",
       "relationship          0\n",
       "race                  0\n",
       "gender                0\n",
       "native-country        0\n",
       "income                0\n",
       "capital_net           0\n",
       "hours_category        0\n",
       "dtype: int64"
      ]
     },
     "execution_count": 231,
     "metadata": {},
     "output_type": "execute_result"
    }
   ],
   "execution_count": 231
  },
  {
   "metadata": {
    "ExecuteTime": {
     "end_time": "2025-04-20T12:23:07.839096Z",
     "start_time": "2025-04-20T12:23:07.823540Z"
    }
   },
   "cell_type": "code",
   "source": "df.groupby(\"occupation\")[\"workclass\"].value_counts()",
   "id": "973560181ed19afb",
   "outputs": [
    {
     "data": {
      "text/plain": [
       "occupation        workclass       \n",
       "Adm-clerical      Private             4208\n",
       "                  Federal-gov          487\n",
       "                  Local-gov            421\n",
       "                  State-gov            375\n",
       "                  Self-emp-not-inc      70\n",
       "                                      ... \n",
       "Transport-moving  Local-gov            156\n",
       "                  State-gov             60\n",
       "                  Self-emp-inc          38\n",
       "                  Federal-gov           37\n",
       "                  Without-pay            1\n",
       "Name: count, Length: 86, dtype: int64"
      ]
     },
     "execution_count": 232,
     "metadata": {},
     "output_type": "execute_result"
    }
   ],
   "execution_count": 232
  },
  {
   "metadata": {
    "ExecuteTime": {
     "end_time": "2025-04-20T12:23:07.979250Z",
     "start_time": "2025-04-20T12:23:07.971520Z"
    }
   },
   "cell_type": "code",
   "source": [
    "# Apply imputation\n",
    "df[\"workclass\"] = df[\"workclass\"].fillna(\"Unknown\")"
   ],
   "id": "6f77a35d6c02fa06",
   "outputs": [],
   "execution_count": 233
  },
  {
   "metadata": {
    "ExecuteTime": {
     "end_time": "2025-04-20T12:23:08.081348Z",
     "start_time": "2025-04-20T12:23:08.063276Z"
    }
   },
   "cell_type": "code",
   "source": "df.isna().sum() # no more null values",
   "id": "33379af6bbd2be97",
   "outputs": [
    {
     "data": {
      "text/plain": [
       "age                0\n",
       "workclass          0\n",
       "educational-num    0\n",
       "marital-status     0\n",
       "occupation         0\n",
       "relationship       0\n",
       "race               0\n",
       "gender             0\n",
       "native-country     0\n",
       "income             0\n",
       "capital_net        0\n",
       "hours_category     0\n",
       "dtype: int64"
      ]
     },
     "execution_count": 234,
     "metadata": {},
     "output_type": "execute_result"
    }
   ],
   "execution_count": 234
  },
  {
   "metadata": {
    "ExecuteTime": {
     "end_time": "2025-04-20T12:23:08.243384Z",
     "start_time": "2025-04-20T12:23:08.227768Z"
    }
   },
   "cell_type": "code",
   "source": "df.sample(5)",
   "id": "25b780b3a656f1c5",
   "outputs": [
    {
     "data": {
      "text/plain": [
       "       age workclass  educational-num      marital-status      occupation  \\\n",
       "17329   20   Private               10       Never-married           Sales   \n",
       "33173   25   Private                9       Never-married  Prof-specialty   \n",
       "25309   57   Unknown               13  Married-civ-spouse  Prof-specialty   \n",
       "4305    29   Private               13       Never-married  Prof-specialty   \n",
       "30067   53   Private               10  Married-civ-spouse    Adm-clerical   \n",
       "\n",
       "        relationship                race  gender native-country income  \\\n",
       "17329  Not-in-family               White  Female  United-States  <=50K   \n",
       "33173      Own-child               White    Male  United-States  <=50K   \n",
       "25309        Husband               White    Male  United-States  <=50K   \n",
       "4305   Not-in-family  Asian-Pac-Islander    Male         Taiwan  <=50K   \n",
       "30067        Husband               White    Male  United-States   >50K   \n",
       "\n",
       "       capital_net hours_category  \n",
       "17329            0      over-time  \n",
       "33173            0      full-time  \n",
       "25309            0      part-time  \n",
       "4305             0      full-time  \n",
       "30067            0      over-time  "
      ],
      "text/html": [
       "<div>\n",
       "<style scoped>\n",
       "    .dataframe tbody tr th:only-of-type {\n",
       "        vertical-align: middle;\n",
       "    }\n",
       "\n",
       "    .dataframe tbody tr th {\n",
       "        vertical-align: top;\n",
       "    }\n",
       "\n",
       "    .dataframe thead th {\n",
       "        text-align: right;\n",
       "    }\n",
       "</style>\n",
       "<table border=\"1\" class=\"dataframe\">\n",
       "  <thead>\n",
       "    <tr style=\"text-align: right;\">\n",
       "      <th></th>\n",
       "      <th>age</th>\n",
       "      <th>workclass</th>\n",
       "      <th>educational-num</th>\n",
       "      <th>marital-status</th>\n",
       "      <th>occupation</th>\n",
       "      <th>relationship</th>\n",
       "      <th>race</th>\n",
       "      <th>gender</th>\n",
       "      <th>native-country</th>\n",
       "      <th>income</th>\n",
       "      <th>capital_net</th>\n",
       "      <th>hours_category</th>\n",
       "    </tr>\n",
       "  </thead>\n",
       "  <tbody>\n",
       "    <tr>\n",
       "      <th>17329</th>\n",
       "      <td>20</td>\n",
       "      <td>Private</td>\n",
       "      <td>10</td>\n",
       "      <td>Never-married</td>\n",
       "      <td>Sales</td>\n",
       "      <td>Not-in-family</td>\n",
       "      <td>White</td>\n",
       "      <td>Female</td>\n",
       "      <td>United-States</td>\n",
       "      <td>&lt;=50K</td>\n",
       "      <td>0</td>\n",
       "      <td>over-time</td>\n",
       "    </tr>\n",
       "    <tr>\n",
       "      <th>33173</th>\n",
       "      <td>25</td>\n",
       "      <td>Private</td>\n",
       "      <td>9</td>\n",
       "      <td>Never-married</td>\n",
       "      <td>Prof-specialty</td>\n",
       "      <td>Own-child</td>\n",
       "      <td>White</td>\n",
       "      <td>Male</td>\n",
       "      <td>United-States</td>\n",
       "      <td>&lt;=50K</td>\n",
       "      <td>0</td>\n",
       "      <td>full-time</td>\n",
       "    </tr>\n",
       "    <tr>\n",
       "      <th>25309</th>\n",
       "      <td>57</td>\n",
       "      <td>Unknown</td>\n",
       "      <td>13</td>\n",
       "      <td>Married-civ-spouse</td>\n",
       "      <td>Prof-specialty</td>\n",
       "      <td>Husband</td>\n",
       "      <td>White</td>\n",
       "      <td>Male</td>\n",
       "      <td>United-States</td>\n",
       "      <td>&lt;=50K</td>\n",
       "      <td>0</td>\n",
       "      <td>part-time</td>\n",
       "    </tr>\n",
       "    <tr>\n",
       "      <th>4305</th>\n",
       "      <td>29</td>\n",
       "      <td>Private</td>\n",
       "      <td>13</td>\n",
       "      <td>Never-married</td>\n",
       "      <td>Prof-specialty</td>\n",
       "      <td>Not-in-family</td>\n",
       "      <td>Asian-Pac-Islander</td>\n",
       "      <td>Male</td>\n",
       "      <td>Taiwan</td>\n",
       "      <td>&lt;=50K</td>\n",
       "      <td>0</td>\n",
       "      <td>full-time</td>\n",
       "    </tr>\n",
       "    <tr>\n",
       "      <th>30067</th>\n",
       "      <td>53</td>\n",
       "      <td>Private</td>\n",
       "      <td>10</td>\n",
       "      <td>Married-civ-spouse</td>\n",
       "      <td>Adm-clerical</td>\n",
       "      <td>Husband</td>\n",
       "      <td>White</td>\n",
       "      <td>Male</td>\n",
       "      <td>United-States</td>\n",
       "      <td>&gt;50K</td>\n",
       "      <td>0</td>\n",
       "      <td>over-time</td>\n",
       "    </tr>\n",
       "  </tbody>\n",
       "</table>\n",
       "</div>"
      ]
     },
     "execution_count": 235,
     "metadata": {},
     "output_type": "execute_result"
    }
   ],
   "execution_count": 235
  },
  {
   "metadata": {
    "ExecuteTime": {
     "end_time": "2025-04-20T12:23:08.404335Z",
     "start_time": "2025-04-20T12:23:08.390946Z"
    }
   },
   "cell_type": "code",
   "source": [
    "num_columns = [0, 2, 9]  # age, educational-num, capital_net\n",
    "char_columns = [1, 3, 4, 5, 6, 7, 8, 10]  # workclass, marital-status, occupation, relationship, race, sex, native-country, hours_category\n",
    "X = df.drop(columns=[\"income\"])\n",
    "Y = (df[\"income\"] == \">50K\").astype(int)  # Binary: 0 for <=50K, 1 for >50K\n",
    "\n",
    "transform_x = ColumnTransformer([\n",
    "    (\"scaler\", StandardScaler(), num_columns),\n",
    "    (\"encoder\", OneHotEncoder(drop=\"first\", sparse_output=False), char_columns)\n",
    "], remainder=\"passthrough\")\n",
    "\n",
    "pipeline = Pipeline([\n",
    "    (\"preprocessor\", transform_x),\n",
    "    (\"classifier\", LogisticRegression())\n",
    "])"
   ],
   "id": "cd4a701988249bfe",
   "outputs": [],
   "execution_count": 236
  },
  {
   "metadata": {
    "ExecuteTime": {
     "end_time": "2025-04-20T12:23:08.495363Z",
     "start_time": "2025-04-20T12:23:08.476543Z"
    }
   },
   "cell_type": "code",
   "source": "X_train, X_test, Y_train, Y_test = train_test_split(X, Y, test_size=0.25)",
   "id": "ce19ad2c4981720a",
   "outputs": [],
   "execution_count": 237
  },
  {
   "metadata": {
    "ExecuteTime": {
     "end_time": "2025-04-20T12:23:09.199034Z",
     "start_time": "2025-04-20T12:23:08.618591Z"
    }
   },
   "cell_type": "code",
   "source": [
    "pipeline.fit(X_train, Y_train)\n",
    "Y_pred = pipeline.predict(X_test)"
   ],
   "id": "21c1c4cbb156d28e",
   "outputs": [],
   "execution_count": 238
  },
  {
   "metadata": {
    "ExecuteTime": {
     "end_time": "2025-04-20T12:23:09.264140Z",
     "start_time": "2025-04-20T12:23:09.203564Z"
    }
   },
   "cell_type": "code",
   "source": [
    "# Evaluation\n",
    "print(f\"\\nAccuracy: {accuracy_score(Y_test, Y_pred):.2f}\")\n",
    "print(\"Classification Report:\")\n",
    "print(classification_report(Y_test, Y_pred, target_names=[\"<=50K\", \">50K\"]))\n",
    "print(f\"ROC-AUC: {roc_auc_score(Y_test, pipeline.predict_proba(X_test)[:, 1]):.2f}\")\n",
    "\n",
    "# Feature importance\n",
    "coef = pipeline.named_steps[\"classifier\"].coef_[0]\n",
    "feature_names = pipeline.named_steps[\"preprocessor\"].get_feature_names_out()\n",
    "print(\"\\nFeature Importance:\")\n",
    "print(pd.DataFrame({\"Feature\": feature_names, \"Coefficient\": coef}).sort_values(by=\"Coefficient\", ascending=False))\n",
    "\n",
    "# Validate distributions\n",
    "print(\"\\nWorkclass distribution after imputation:\")\n",
    "print(df[\"workclass\"].value_counts())\n",
    "print(\"\\nOccupation distribution after imputation:\")\n",
    "print(df[\"occupation\"].value_counts())\n",
    "print(\"\\nNative-country distribution after imputation:\")\n",
    "print(df[\"native-country\"].value_counts().head())"
   ],
   "id": "e86973cf49ade5d5",
   "outputs": [
    {
     "name": "stdout",
     "output_type": "stream",
     "text": [
      "\n",
      "Accuracy: 0.85\n",
      "Classification Report:\n",
      "              precision    recall  f1-score   support\n",
      "\n",
      "       <=50K       0.88      0.93      0.90      9259\n",
      "        >50K       0.73      0.59      0.65      2952\n",
      "\n",
      "    accuracy                           0.85     12211\n",
      "   macro avg       0.80      0.76      0.78     12211\n",
      "weighted avg       0.84      0.85      0.84     12211\n",
      "\n",
      "ROC-AUC: 0.91\n",
      "\n",
      "Feature Importance:\n",
      "                                       Feature  Coefficient\n",
      "12  encoder__marital-status_Married-civ-spouse     1.839071\n",
      "2                          scaler__capital_net     1.823047\n",
      "11   encoder__marital-status_Married-AF-spouse     1.696351\n",
      "59             encoder__native-country_Ireland     1.216025\n",
      "34                  encoder__relationship_Wife     1.064380\n",
      "..                                         ...          ...\n",
      "45             encoder__native-country_Ecuador    -0.939375\n",
      "9                   encoder__workclass_Unknown    -1.299052\n",
      "42            encoder__native-country_Columbia    -1.400546\n",
      "24         encoder__occupation_Priv-house-serv    -1.428561\n",
      "82           encoder__hours_category_part-time    -1.585232\n",
      "\n",
      "[83 rows x 2 columns]\n",
      "\n",
      "Workclass distribution after imputation:\n",
      "workclass\n",
      "Private             33906\n",
      "Self-emp-not-inc     3862\n",
      "Local-gov            3136\n",
      "Unknown              2799\n",
      "State-gov            1981\n",
      "Self-emp-inc         1695\n",
      "Federal-gov          1432\n",
      "Without-pay            21\n",
      "Never-worked           10\n",
      "Name: count, dtype: int64\n",
      "\n",
      "Occupation distribution after imputation:\n",
      "occupation\n",
      "Craft-repair         6924\n",
      "Adm-clerical         6608\n",
      "Prof-specialty       6534\n",
      "Exec-managerial      6086\n",
      "Other-service        5561\n",
      "Sales                5504\n",
      "Machine-op-inspct    3022\n",
      "Transport-moving     2355\n",
      "Handlers-cleaners    2072\n",
      "Farming-fishing      1490\n",
      "Tech-support         1446\n",
      "Protective-serv       983\n",
      "Priv-house-serv       242\n",
      "Armed-Forces           15\n",
      "Name: count, dtype: int64\n",
      "\n",
      "Native-country distribution after imputation:\n",
      "native-country\n",
      "United-States    44689\n",
      "Mexico             951\n",
      "Philippines        295\n",
      "Germany            206\n",
      "Puerto-Rico        184\n",
      "Name: count, dtype: int64\n"
     ]
    }
   ],
   "execution_count": 239
  }
 ],
 "metadata": {
  "kernelspec": {
   "display_name": "Python 3",
   "language": "python",
   "name": "python3"
  },
  "language_info": {
   "codemirror_mode": {
    "name": "ipython",
    "version": 2
   },
   "file_extension": ".py",
   "mimetype": "text/x-python",
   "name": "python",
   "nbconvert_exporter": "python",
   "pygments_lexer": "ipython2",
   "version": "2.7.6"
  }
 },
 "nbformat": 4,
 "nbformat_minor": 5
}
