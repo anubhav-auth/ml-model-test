{
 "cells": [
  {
   "cell_type": "code",
   "id": "initial_id",
   "metadata": {
    "collapsed": true,
    "ExecuteTime": {
     "end_time": "2025-04-19T19:53:50.250571Z",
     "start_time": "2025-04-19T19:53:50.246055Z"
    }
   },
   "source": [
    "from sys import hash_info\n",
    "from unittest.mock import inplace\n",
    "\n",
    "import pandas as pd\n",
    "import numpy as np\n",
    "from pygments.lexer import include\n",
    "from sklearn.impute import SimpleImputer\n",
    "from sklearn.metrics import accuracy_score\n",
    "from sklearn.model_selection import train_test_split\n",
    "from sklearn.pipeline import Pipeline\n",
    "from sklearn.compose import ColumnTransformer\n",
    "from sklearn.linear_model import LogisticRegression"
   ],
   "outputs": [],
   "execution_count": 132
  },
  {
   "metadata": {
    "ExecuteTime": {
     "end_time": "2025-04-19T19:53:50.413305Z",
     "start_time": "2025-04-19T19:53:50.318896Z"
    }
   },
   "cell_type": "code",
   "source": [
    "df = pd.read_csv(\"../datasets/adult_income.csv\")\n",
    "# df.shape # (48842, 15) gave me this\n",
    "# df.info() # shows no null columns but can be filled with non-null values\n",
    "# df.isin(['?', 'NA', '']).sum() # found null values replaced with characters so hidden values\n",
    "df.replace(\"?\", np.nan, inplace=True)\n",
    "# df.isin(['?', 'NA', '']).sum() # no we can see the data has no values that are hidden\n",
    "# df.info() #info now shows the missing values"
   ],
   "id": "fd0ecab12cf9d919",
   "outputs": [],
   "execution_count": 133
  },
  {
   "metadata": {
    "ExecuteTime": {
     "end_time": "2025-04-19T19:53:50.436924Z",
     "start_time": "2025-04-19T19:53:50.425398Z"
    }
   },
   "cell_type": "code",
   "source": [
    "df[\"capital_net\"] = df['capital-gain'] - df[\"capital-loss\"]\n",
    "df[\"hours_category\"] = pd.cut(\n",
    "    x=df[\"hours-per-week\"],\n",
    "    bins=(0, 20, 40, 60, 100),\n",
    "    labels=([\"part-time\", \"full-time\", \"over-time\", \"extreme\"]),\n",
    "    include_lowest=True\n",
    ")\n",
    "\n",
    "df.drop(columns= [\"fnlwgt\", \"education\", \"capital-loss\", 'capital-gain', \"hours-per-week\"], inplace=True)"
   ],
   "id": "c3a17c300fd22c55",
   "outputs": [],
   "execution_count": 134
  },
  {
   "metadata": {
    "ExecuteTime": {
     "end_time": "2025-04-19T19:53:50.466727Z",
     "start_time": "2025-04-19T19:53:50.449121Z"
    }
   },
   "cell_type": "code",
   "source": "df.isna().sum() # now after feature engineering we have to fill up the empty spaces in work class, occupation, native-country",
   "id": "62427e1cfd50cf4f",
   "outputs": [
    {
     "data": {
      "text/plain": [
       "age                   0\n",
       "workclass          2799\n",
       "educational-num       0\n",
       "marital-status        0\n",
       "occupation         2809\n",
       "relationship          0\n",
       "race                  0\n",
       "gender                0\n",
       "native-country      857\n",
       "income                0\n",
       "capital_net           0\n",
       "hours_category        0\n",
       "dtype: int64"
      ]
     },
     "execution_count": 135,
     "metadata": {},
     "output_type": "execute_result"
    }
   ],
   "execution_count": 135
  },
  {
   "metadata": {
    "ExecuteTime": {
     "end_time": "2025-04-19T19:53:50.513504Z",
     "start_time": "2025-04-19T19:53:50.509068Z"
    }
   },
   "cell_type": "code",
   "source": [
    "# df[\"native-country\"].describe()\n",
    "# df[\"native-country\"].unique()  this shows that max country is USA more than 97% so can apply imputer with most freq"
   ],
   "id": "20f42045895da349",
   "outputs": [],
   "execution_count": 136
  },
  {
   "metadata": {
    "ExecuteTime": {
     "end_time": "2025-04-19T19:53:50.572530Z",
     "start_time": "2025-04-19T19:53:50.563144Z"
    }
   },
   "cell_type": "code",
   "source": [
    "df[\"native-country\"] = (\n",
    "    df[\"native-country\"]\n",
    "      .fillna(df[\"native-country\"]\n",
    "                .mode()\n",
    "                .iloc[0])\n",
    ") ## extraxts the mode(max freq) and replaces it where it was null"
   ],
   "id": "583e7d6edd2ebcb0",
   "outputs": [],
   "execution_count": 137
  },
  {
   "metadata": {
    "ExecuteTime": {
     "end_time": "2025-04-19T19:53:50.664858Z",
     "start_time": "2025-04-19T19:53:50.652886Z"
    }
   },
   "cell_type": "code",
   "source": [
    "df[\"educational-num\"].describe()\n",
    "df[\"occupation\"].unique()"
   ],
   "id": "50020402a306deab",
   "outputs": [
    {
     "data": {
      "text/plain": [
       "array(['Machine-op-inspct', 'Farming-fishing', 'Protective-serv', nan,\n",
       "       'Other-service', 'Prof-specialty', 'Craft-repair', 'Adm-clerical',\n",
       "       'Exec-managerial', 'Tech-support', 'Sales', 'Priv-house-serv',\n",
       "       'Transport-moving', 'Handlers-cleaners', 'Armed-Forces'],\n",
       "      dtype=object)"
      ]
     },
     "execution_count": 138,
     "metadata": {},
     "output_type": "execute_result"
    }
   ],
   "execution_count": 138
  },
  {
   "metadata": {
    "ExecuteTime": {
     "end_time": "2025-04-19T19:53:50.770350Z",
     "start_time": "2025-04-19T19:53:50.755628Z"
    }
   },
   "cell_type": "code",
   "source": [
    "df.groupby(\"educational-num\")[\"occupation\"].value_counts() ## using this to compare values of occupation according to educational-num to figure out the best possible i settled on binning using the values\n",
    "# 1–6, 7–8, 9, 10–12, 13–16; occupations: Other-service, Craft-repair, Craft-repair, Adm-clerical, Prof-specialty"
   ],
   "id": "61ee0409b71c1017",
   "outputs": [
    {
     "data": {
      "text/plain": [
       "educational-num  occupation       \n",
       "1                Other-service        22\n",
       "                 Farming-fishing      17\n",
       "                 Machine-op-inspct    12\n",
       "                 Craft-repair          6\n",
       "                 Handlers-cleaners     5\n",
       "                                      ..\n",
       "16               Transport-moving      2\n",
       "                 Farming-fishing       1\n",
       "                 Machine-op-inspct     1\n",
       "                 Priv-house-serv       1\n",
       "                 Protective-serv       1\n",
       "Name: count, Length: 209, dtype: int64"
      ]
     },
     "execution_count": 139,
     "metadata": {},
     "output_type": "execute_result"
    }
   ],
   "execution_count": 139
  },
  {
   "metadata": {
    "ExecuteTime": {
     "end_time": "2025-04-19T19:53:51.115921Z",
     "start_time": "2025-04-19T19:53:50.818076Z"
    }
   },
   "cell_type": "code",
   "source": [
    "# Custom imputation for occupation based on education-num bins\n",
    "def impute_occupation(row):\n",
    "    if pd.isna(row[\"occupation\"]):\n",
    "        edu = row[\"educational-num\"]\n",
    "        if 1 <= edu <= 6:\n",
    "            return \"Other-service\"  # Dominant for low education\n",
    "        elif 7 <= edu <= 8:\n",
    "            return \"Other-service\"  # Dominant for mid-low\n",
    "        elif edu == 9:\n",
    "            return \"Craft-repair\"  # Dominant for high school\n",
    "        elif 10 <= edu <= 12:\n",
    "            return \"Adm-clerical\"  # Strong for some college to associate’s\n",
    "        elif 13 <= edu <= 16:\n",
    "            return \"Prof-specialty\"  # Dominant for bachelor’s to doctorate\n",
    "    return row[\"occupation\"]\n",
    "\n",
    "# Apply imputation\n",
    "df[\"occupation\"] = df.apply(impute_occupation, axis=1)"
   ],
   "id": "66a143d1e1941cea",
   "outputs": [],
   "execution_count": 140
  },
  {
   "metadata": {
    "ExecuteTime": {
     "end_time": "2025-04-19T19:53:51.157598Z",
     "start_time": "2025-04-19T19:53:51.147119Z"
    }
   },
   "cell_type": "code",
   "source": "df[\"occupation\"].describe()",
   "id": "684e7afca5712307",
   "outputs": [
    {
     "data": {
      "text/plain": [
       "count            48842\n",
       "unique              14\n",
       "top       Craft-repair\n",
       "freq              6924\n",
       "Name: occupation, dtype: object"
      ]
     },
     "execution_count": 141,
     "metadata": {},
     "output_type": "execute_result"
    }
   ],
   "execution_count": 141
  },
  {
   "metadata": {
    "ExecuteTime": {
     "end_time": "2025-04-19T19:53:51.255350Z",
     "start_time": "2025-04-19T19:53:51.236858Z"
    }
   },
   "cell_type": "code",
   "source": "df.isna().sum()",
   "id": "f8dad84c901053b4",
   "outputs": [
    {
     "data": {
      "text/plain": [
       "age                   0\n",
       "workclass          2799\n",
       "educational-num       0\n",
       "marital-status        0\n",
       "occupation            0\n",
       "relationship          0\n",
       "race                  0\n",
       "gender                0\n",
       "native-country        0\n",
       "income                0\n",
       "capital_net           0\n",
       "hours_category        0\n",
       "dtype: int64"
      ]
     },
     "execution_count": 142,
     "metadata": {},
     "output_type": "execute_result"
    }
   ],
   "execution_count": 142
  },
  {
   "metadata": {
    "ExecuteTime": {
     "end_time": "2025-04-19T19:53:51.377463Z",
     "start_time": "2025-04-19T19:53:51.375038Z"
    }
   },
   "cell_type": "code",
   "source": "",
   "id": "973560181ed19afb",
   "outputs": [],
   "execution_count": null
  }
 ],
 "metadata": {
  "kernelspec": {
   "display_name": "Python 3",
   "language": "python",
   "name": "python3"
  },
  "language_info": {
   "codemirror_mode": {
    "name": "ipython",
    "version": 2
   },
   "file_extension": ".py",
   "mimetype": "text/x-python",
   "name": "python",
   "nbconvert_exporter": "python",
   "pygments_lexer": "ipython2",
   "version": "2.7.6"
  }
 },
 "nbformat": 4,
 "nbformat_minor": 5
}
