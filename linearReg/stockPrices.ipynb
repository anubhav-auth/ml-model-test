{
 "cells": [
  {
   "cell_type": "code",
   "execution_count": null,
   "id": "2acab4b67e1bb975",
   "metadata": {
    "ExecuteTime": {
     "end_time": "2025-04-06T19:06:59.096214Z",
     "start_time": "2025-04-06T19:06:59.076828Z"
    }
   },
   "outputs": [],
   "source": [
    "import numpy as np\n",
    "import pandas as pd\n",
    "import seaborn as sns\n",
    "import matplotlib.pyplot as plt\n",
    "from sklearn.model_selection import train_test_split\n",
    "from sklearn.preprocessing import StandardScaler, OneHotEncoder\n",
    "from sklearn.compose import ColumnTransformer\n",
    "from sklearn.linear_model import LinearRegression\n",
    "from sklearn.metrics import r2_score\n",
    "from ydata_profiling import ProfileReport"
   ]
  },
  {
   "cell_type": "code",
   "execution_count": null,
   "id": "c067c80f6cf148b9",
   "metadata": {
    "ExecuteTime": {
     "end_time": "2025-04-06T19:37:24.880285Z",
     "start_time": "2025-04-06T19:37:24.846716Z"
    }
   },
   "outputs": [],
   "source": [
    "stocks = pd.read_csv('../datasets/stock_data.csv')\n",
    "\n",
    "# Convert Date to numerical values\n",
    "stocks['Date'] = pd.to_datetime(stocks['Date'])\n",
    "stocks['Year'] = stocks['Date'].dt.year\n",
    "stocks['Month'] = stocks['Date'].dt.month\n",
    "stocks['Day'] = stocks['Date'].dt.day\n",
    "stocks['DayOfWeek'] = stocks['Date'].dt.dayofweek\n",
    "\n",
    "# Drop Date and target variable\n",
    "X = stocks.drop(columns=['Close', 'Date'])\n",
    "Y = stocks['Close']\n",
    "# ProfileReport(stocks, title=\"Stock Data Profiling Report\", explorative=True).to_file(\n",
    "#     output_file='stock-data-profiling-report.html')\n",
    "stocks"
   ]
  },
  {
   "cell_type": "code",
   "execution_count": null,
   "id": "3e935024d1d4c260",
   "metadata": {
    "ExecuteTime": {
     "end_time": "2025-04-06T19:06:59.044937900Z",
     "start_time": "2025-04-06T13:26:50.538553Z"
    }
   },
   "outputs": [],
   "source": [
    "# Scale numerical values\n",
    "numeric_features = ['Open', 'High', 'Low', 'Volume', 'Market_Cap', 'PE_Ratio', 'Dividend_Yield', 'Volatility', 'Sentiment_Score']\n",
    "scaler = StandardScaler()\n",
    "X[numeric_features] = scaler.fit_transform(X[numeric_features])"
   ]
  },
  {
   "cell_type": "code",
   "execution_count": null,
   "id": "c7a1a4b4d47be185",
   "metadata": {
    "ExecuteTime": {
     "end_time": "2025-04-06T19:06:59.062000600Z",
     "start_time": "2025-04-06T13:26:50.585117Z"
    }
   },
   "outputs": [],
   "source": [
    "# One-hot encode categorical values\n",
    "categorical_features = ['Company', 'Sector', 'Trend']\n",
    "column_transformer = ColumnTransformer(\n",
    "    transformers=[('encoder', OneHotEncoder(drop='first'), categorical_features)],\n",
    "    remainder='passthrough')\n",
    "\n",
    "X = column_transformer.fit_transform(X)"
   ]
  },
  {
   "cell_type": "code",
   "execution_count": null,
   "id": "226d46e7483e0543",
   "metadata": {
    "ExecuteTime": {
     "end_time": "2025-04-06T19:06:59.067176Z",
     "start_time": "2025-04-06T13:26:50.617209Z"
    }
   },
   "outputs": [],
   "source": [
    "# Train-Test Split\n",
    "X_train, X_test, y_train, y_test = train_test_split(X, Y, test_size=0.3, random_state=0)"
   ]
  },
  {
   "cell_type": "code",
   "execution_count": null,
   "id": "716e221ccd1baee1",
   "metadata": {
    "ExecuteTime": {
     "end_time": "2025-04-06T19:06:59.068174700Z",
     "start_time": "2025-04-06T13:26:50.637879Z"
    }
   },
   "outputs": [],
   "source": [
    "# Train Linear Regression Model\n",
    "regressor = LinearRegression()\n",
    "regressor.fit(X_train, y_train)"
   ]
  },
  {
   "cell_type": "code",
   "execution_count": null,
   "id": "39d58ccd74ccad1b",
   "metadata": {
    "ExecuteTime": {
     "end_time": "2025-04-06T19:06:59.069681900Z",
     "start_time": "2025-04-06T13:26:50.754365Z"
    }
   },
   "outputs": [],
   "source": [
    "# Predict\n",
    "Y_pred = regressor.predict(X_test)"
   ]
  },
  {
   "cell_type": "code",
   "execution_count": null,
   "id": "6056ee60f105a556",
   "metadata": {
    "ExecuteTime": {
     "end_time": "2025-04-06T19:06:59.076828Z",
     "start_time": "2025-04-06T13:26:50.767661Z"
    }
   },
   "outputs": [],
   "source": [
    "# Evaluate\n",
    "r2 = r2_score(y_test, Y_pred) * 100\n",
    "print(f\"R² Score: {r2}\")"
   ]
  },
  {
   "cell_type": "code",
   "execution_count": null,
   "id": "265a5881534b44eb",
   "metadata": {
    "ExecuteTime": {
     "end_time": "2025-04-06T19:06:59.080975500Z",
     "start_time": "2025-04-06T13:26:50.801443Z"
    }
   },
   "outputs": [],
   "source": []
  }
 ],
 "metadata": {
  "kernelspec": {
   "display_name": "Python 3",
   "language": "python",
   "name": "python3"
  },
  "language_info": {
   "codemirror_mode": {
    "name": "ipython",
    "version": 2
   },
   "file_extension": ".py",
   "mimetype": "text/x-python",
   "name": "python",
   "nbconvert_exporter": "python",
   "pygments_lexer": "ipython2",
   "version": "2.7.6"
  }
 },
 "nbformat": 4,
 "nbformat_minor": 5
}
